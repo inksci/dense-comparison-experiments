{
 "cells": [
  {
   "cell_type": "code",
   "execution_count": 1,
   "metadata": {
    "collapsed": true
   },
   "outputs": [],
   "source": [
    "def restore_all(data_save_dir):\n",
    "    global agent, all_reward, all_episode\n",
    "    # restore the parameters of networks, i.e., Weight and Bias.\n",
    "    tf.train.Saver().restore(agent.session,tf.train.latest_checkpoint(\"model/\"))\n",
    "    # restore replay memory\n",
    "    agent.replay_buffer = deque( np.load(data_save_dir+\"/replay_buffer.npy\", allow_pickle=True) )\n",
    "    # restore reward list\n",
    "    all_reward = np.load(data_save_dir+\"/all_reward.npy\").tolist()\n",
    "    # restore episode count\n",
    "    all_episode = np.load(data_save_dir+\"/all_episode.npy\")[0]"
   ]
  },
  {
   "cell_type": "code",
   "execution_count": 2,
   "metadata": {
    "collapsed": true
   },
   "outputs": [],
   "source": [
    "def save_all(data_save_dir):\n",
    "    global agent, all_reward, all_episode\n",
    "    # save the parameters of networks, i.e., Weight and Bias.\n",
    "    tf.train.Saver().save(agent.session, \"model/model\", global_step=all_episode)\n",
    "    # save replay memory\n",
    "    np.save(data_save_dir+\"/replay_buffer\", agent.replay_buffer)\n",
    "    # save reward list\n",
    "    np.save(data_save_dir+\"/all_reward\", all_reward)\n",
    "    # save episode count\n",
    "    np.save(data_save_dir+\"/all_episode\", [all_episode])"
   ]
  },
  {
   "cell_type": "code",
   "execution_count": 3,
   "metadata": {
    "collapsed": true
   },
   "outputs": [],
   "source": [
    "CONFIG = {\n",
    "    \"dense\": 1,\n",
    "}"
   ]
  },
  {
   "cell_type": "code",
   "execution_count": 4,
   "metadata": {
    "collapsed": true
   },
   "outputs": [],
   "source": [
    "import numpy as np\n",
    "from scipy.linalg import expm\n",
    "import random\n",
    "\n",
    "class move_gym():\n",
    "    def __init__(self):\n",
    "        self.scope = 2.0\n",
    "        self.states = 6\n",
    "        self.actions = 4\n",
    "    def reset(self):\n",
    "\n",
    "        self.obstacle_x = np.random.randint( int(-self.scope*10), int(self.scope*10) )*0.1\n",
    "        self.obstacle_y = np.random.randint( int(-self.scope*10), int(self.scope*10) )*0.1\n",
    "\n",
    "        self.move_x = np.random.randint( int(-self.scope*10), int(self.scope*10) )*0.1\n",
    "        self.move_y = np.random.randint( int(-self.scope*10), int(self.scope*10) )*0.1  \n",
    "        while ( abs(self.obstacle_x-self.move_x) < 1.05 ) & ( abs(self.obstacle_y-self.move_y) < 1.05 ):\n",
    "            self.move_x = np.random.randint( int(-self.scope*10), int(self.scope*10) )*0.1\n",
    "            self.move_y = np.random.randint( int(-self.scope*10), int(self.scope*10) )*0.1      \n",
    "\n",
    "        self.target_x = np.random.randint( int(-self.scope*10), int(self.scope*10) )*0.1\n",
    "        self.target_y = np.random.randint( int(-self.scope*10), int(self.scope*10) )*0.1\n",
    "        while (  ( abs(self.obstacle_x-self.target_x) < 1.05 ) & ( abs(self.obstacle_y-self.target_y) < 1.05 )  ) |\\\n",
    "         (  ( abs(self.move_x-self.target_x) < 1.05 ) & ( abs(self.move_y-self.target_y) < 1.05 )  ):\n",
    "            self.target_x = np.random.randint( int(-self.scope*10), int(self.scope*10) )*0.1\n",
    "            self.target_y = np.random.randint( int(-self.scope*10), int(self.scope*10) )*0.1        \n",
    "\n",
    "        state=np.array( [ self.move_x, self.move_y, self.obstacle_x, self.obstacle_y, self.target_x, self.target_y ])\n",
    "        \n",
    "        return state #, self.state2img(state)\n",
    "    def step(self, action):\n",
    "        velocity = 0.2\n",
    "        if action==0: # up down right left\n",
    "            self.move_y+=velocity\n",
    "        if action==1:\n",
    "            self.move_y-=velocity\n",
    "        if action==2:\n",
    "            self.move_x+=velocity\n",
    "        if action==3:\n",
    "            self.move_x-=velocity\n",
    "\n",
    "        if self.move_x > (self.scope+1.0):\n",
    "            self.move_x-=velocity\n",
    "        if self.move_x < (-self.scope-1.0):\n",
    "            self.move_x+=velocity\n",
    "        if self.move_y > (self.scope+1.0):\n",
    "            self.move_y-=velocity\n",
    "        if self.move_y < (-self.scope-1.0):\n",
    "            self.move_y+=velocity\n",
    "        \n",
    "        reward = -0.1\n",
    "        done = False\n",
    "        info = \"^_^\"\n",
    "        if (  ( abs(self.obstacle_x-self.move_x) < 1.05 ) & ( abs(self.obstacle_y-self.move_y) < 1.05 )  ): \n",
    "            reward = -1.0 \n",
    "            done = True\n",
    "            info = \"collision\"\n",
    "\n",
    "        elif (  ( abs(self.target_x-self.move_x) < 1.05 ) & ( abs(self.target_y-self.move_y) < 1.05 )  ):\n",
    "            reward = 1.0\n",
    "            done = True\n",
    "            info = \"reach\"\n",
    "            \n",
    "        state=np.array( [ self.move_x, self.move_y, self.obstacle_x, self.obstacle_y, self.target_x, self.target_y ])\n",
    "\n",
    "        return state, reward,done,info\n",
    "    def state2img(self, state):\n",
    "        img = np.zeros([84,84,3], dtype=np.uint8)\n",
    "        ( img[ int(42-(self.obstacle_y+0.5)*10):int(42-(self.obstacle_y-0.5)*10), int((self.obstacle_x-0.5)*10+42):int((self.obstacle_x+0.5)*10+42),2 ] ).fill(255)\n",
    "        ( img[ int(42-(self.target_y+0.5)*10):int(42-(self.target_y-0.5)*10), int((self.target_x-0.5)*10+42):int((self.target_x+0.5)*10+42),1 ] ).fill(255)\n",
    "        ( img[ int(42-(self.move_y+0.5)*10):int(42-(self.move_y-0.5)*10), int((self.move_x-0.5)*10+42):int((self.move_x+0.5)*10+42),0 ] ).fill(255)\n",
    "        return img"
   ]
  },
  {
   "cell_type": "code",
   "execution_count": 5,
   "metadata": {},
   "outputs": [
    {
     "name": "stderr",
     "output_type": "stream",
     "text": [
      "WARNING: Logging before flag parsing goes to stderr.\n",
      "W0104 19:44:20.446081 140291627591488 deprecation.py:323] From <ipython-input-5-5ec0d0c94174>:59: dense (from tensorflow.python.layers.core) is deprecated and will be removed in a future version.\n",
      "Instructions for updating:\n",
      "Use keras.layers.dense instead.\n",
      "W0104 19:44:20.450358 140291627591488 deprecation.py:506] From /home/inksci/miniconda3/envs/py3-tfv4-sp1.2.1/lib/python3.6/site-packages/tensorflow/python/ops/init_ops.py:1251: calling VarianceScaling.__init__ (from tensorflow.python.ops.init_ops) with dtype is deprecated and will be removed in a future version.\n",
      "Instructions for updating:\n",
      "Call initializer instance with the dtype argument instead of passing it to the constructor\n"
     ]
    },
    {
     "name": "stdout",
     "output_type": "stream",
     "text": [
      "create new network weights ...\n"
     ]
    }
   ],
   "source": [
    "import tensorflow as tf\n",
    "import numpy as np\n",
    "from numpy import *\n",
    "import random\n",
    "from collections import deque\n",
    "\n",
    "from tqdm import trange\n",
    "\n",
    "# Hyper Parameters for DQN\n",
    "GAMMA = 0.9 # discount factor for target Q\n",
    "INITIAL_EPSILON = 0.5 # starting value of epsilon\n",
    "FINAL_EPSILON = 0.01 # final value of epsilon\n",
    "REPLAY_SIZE = 10000 # experience replay buffer size\n",
    "BATCH_SIZE = 32 # size of minibatch\n",
    "\n",
    "class DQN():\n",
    "    # DQN Agent\n",
    "    def __init__(self, env):\n",
    "        # init experience replay\n",
    "        self.replay_buffer = deque()\n",
    "        # init. some parameters\n",
    "        self.epsilon = INITIAL_EPSILON\n",
    "        # self.state_dim = env.observation_space.shape[0]\n",
    "        self.state_dim = env.states\n",
    "\n",
    "        # self.action_dim = env.action_space.n\n",
    "        self.action_dim = env.actions\n",
    "\n",
    "        self.create_Q_network()\n",
    "        self.create_training_method()\n",
    "\n",
    "        # Init session\n",
    "        self.session = tf.InteractiveSession()\n",
    "        self.session.run(tf.global_variables_initializer())\n",
    "\n",
    "    def create_Q_network(self):\n",
    "        print( \"create new network weights ...\")\n",
    "        num_hid = 200\n",
    "        \n",
    "        # input layer\n",
    "        self.state_input = tf.placeholder(\"float\",[None,self.state_dim])\n",
    "        \n",
    "        if not CONFIG[\"dense\"]:\n",
    "            self.W1 = self.weight_variable([self.state_dim,num_hid])\n",
    "            self.b1 = self.bias_variable([num_hid])\n",
    "            self.W2 = self.weight_variable([num_hid,num_hid])\n",
    "            self.b2 = self.bias_variable([num_hid])\n",
    "            self.W3 = self.weight_variable([num_hid,self.action_dim])\n",
    "            self.b3= self.bias_variable([self.action_dim])\n",
    "\n",
    "            # hidden layers\n",
    "            h_layer = tf.nn.relu(tf.matmul(self.state_input,self.W1) + self.b1)\n",
    "            h_layer02 = tf.nn.relu(tf.matmul(h_layer,self.W2) + self.b2)\n",
    "            \n",
    "            # Q Value layer\n",
    "            self.Q_value = tf.matmul(h_layer02,self.W3) + self.b3\n",
    "\n",
    "        else:\n",
    "            h_layer = tf.layers.dense( self.state_input, num_hid, activation=tf.nn.relu )\n",
    "            h_layer2 = tf.layers.dense( h_layer, num_hid, activation=tf.nn.relu )\n",
    "            self.Q_value = tf.layers.dense( h_layer2, self.action_dim )\n",
    "\n",
    "    def create_training_method(self):\n",
    "        self.action_input = tf.placeholder(\"float\",[None,self.action_dim]) # one hot presentation\n",
    "        self.y_input = tf.placeholder(\"float\",[None])\n",
    "        Q_action = tf.reduce_sum(tf.multiply(self.Q_value,self.action_input),reduction_indices = 1)\n",
    "        self.cost = tf.reduce_mean(tf.square(self.y_input - Q_action))\n",
    "        self.optimizer = tf.train.AdamOptimizer(0.0001).minimize(self.cost)\n",
    "\n",
    "    def perceive(self,state,action,reward,next_state,done):\n",
    "        one_hot_action = np.zeros(self.action_dim)\n",
    "        one_hot_action[action] = 1\n",
    "        self.replay_buffer.append((state,one_hot_action,reward,next_state,done))\n",
    "        if len(self.replay_buffer) > REPLAY_SIZE:\n",
    "            self.replay_buffer.popleft()\n",
    "\n",
    "        if len(self.replay_buffer) > BATCH_SIZE:\n",
    "            self.train_Q_network()\n",
    "\n",
    "    def train_Q_network(self):\n",
    "        # Step 1: obtain random minibatch from replay memory\n",
    "        minibatch = random.sample(self.replay_buffer,BATCH_SIZE)\n",
    "        state_batch = [data[0] for data in minibatch]\n",
    "        action_batch = [data[1] for data in minibatch]\n",
    "        reward_batch = [data[2] for data in minibatch]\n",
    "        next_state_batch = [data[3] for data in minibatch]\n",
    "\n",
    "        # Step 2: calculate y\n",
    "        y_batch = []\n",
    "        Q_value_batch = self.Q_value.eval(feed_dict={self.state_input:next_state_batch})\n",
    "        for i in range(0,BATCH_SIZE):\n",
    "            done = minibatch[i][4]\n",
    "            if done:\n",
    "                y_batch.append(reward_batch[i])\n",
    "            else :\n",
    "                y_batch.append(reward_batch[i] + GAMMA * np.max(Q_value_batch[i]))\n",
    "\n",
    "        self.optimizer.run(feed_dict={\n",
    "          self.y_input:y_batch,\n",
    "          self.action_input:action_batch,\n",
    "          self.state_input:state_batch\n",
    "          })\n",
    "\n",
    "    def egreedy_action(self,state):\n",
    "        Q_value = self.Q_value.eval(feed_dict = {\n",
    "          self.state_input:[state]\n",
    "          })[0]\n",
    "        if random.random() < 0.5:\n",
    "            return random.randint(0,self.action_dim - 1)\n",
    "        else:\n",
    "            return np.argmax(Q_value)\n",
    "\n",
    "    def obtain_wb(self):\n",
    "        W1=self.session.run(self.W1)\n",
    "        b1=self.session.run(self.b1)\n",
    "        W2=self.session.run(self.W2)\n",
    "        b2=self.session.run(self.b2)\n",
    "        W3=self.session.run(self.W3)\n",
    "        b3=self.session.run(self.b3)\n",
    "        return W1, b1, W2, b2, W3, b3\n",
    "\n",
    "    def restore_wb(self):\n",
    "        W1 = np.load( \"W1.npy\" )\n",
    "        W2 = np.load( \"W2.npy\" )\n",
    "        W3 = np.load( \"W3.npy\" )\n",
    "\n",
    "        b1 = np.load( \"b1.npy\" )\n",
    "        b2 = np.load( \"b2.npy\" )\n",
    "        b3 = np.load( \"b3.npy\" )        \n",
    "        return tf.Variable(W1), tf.Variable(b1), tf.Variable(W2), tf.Variable(b2), tf.Variable(W3), tf.Variable(b3)\n",
    "    def use_nn(self,state):\n",
    "        return self.Q_value.eval(feed_dict = {\n",
    "          self.state_input:[state]\n",
    "          })\n",
    "\n",
    "    def action(self,state):\n",
    "        return np.argmax(self.Q_value.eval(feed_dict = {\n",
    "          self.state_input:[state]\n",
    "          })[0])\n",
    "\n",
    "    def weight_variable(self,shape):\n",
    "        initial = tf.truncated_normal(shape)\n",
    "        return tf.Variable(initial)\n",
    "\n",
    "    def bias_variable(self,shape):\n",
    "        initial = tf.constant(0.01, shape = shape)\n",
    "        return tf.Variable(initial)\n",
    "    \n",
    "    \n",
    "# Hyper Parameters\n",
    "STEP = 50 # Step limitation in an episode\n",
    "TEST = 10 # The number of experiment for test\n",
    "\n",
    "# initialize env and agent\n",
    "env = move_gym()\n",
    "agent = DQN(env)\n",
    "\n",
    "all_episode = 0\n",
    "all_reward = []"
   ]
  },
  {
   "cell_type": "code",
   "execution_count": 5,
   "metadata": {},
   "outputs": [
    {
     "name": "stderr",
     "output_type": "stream",
     "text": [
      "WARNING: Logging before flag parsing goes to stderr.\n",
      "W1217 22:05:58.167808 139787083765568 deprecation.py:323] From /home/inksci/miniconda3/envs/py3-tfv4-sp1.2.1/lib/python3.6/site-packages/tensorflow/python/training/saver.py:1276: checkpoint_exists (from tensorflow.python.training.checkpoint_management) is deprecated and will be removed in a future version.\n",
      "Instructions for updating:\n",
      "Use standard file APIs to check for files with this prefix.\n"
     ]
    }
   ],
   "source": [
    "restore_all(\"data-save\")"
   ]
  },
  {
   "cell_type": "code",
   "execution_count": 6,
   "metadata": {},
   "outputs": [
    {
     "name": "stderr",
     "output_type": "stream",
     "text": [
      "  0%|          | 4/1000 [00:00<01:27, 11.35it/s]"
     ]
    },
    {
     "name": "stdout",
     "output_type": "stream",
     "text": [
      "episode:  0 Evaluation Average Reward: -3.6700000000000244\n"
     ]
    },
    {
     "name": "stderr",
     "output_type": "stream",
     "text": [
      " 10%|█         | 105/1000 [00:05<00:41, 21.75it/s]"
     ]
    },
    {
     "name": "stdout",
     "output_type": "stream",
     "text": [
      "episode:  100 Evaluation Average Reward: -1.92\n"
     ]
    },
    {
     "name": "stderr",
     "output_type": "stream",
     "text": [
      " 20%|██        | 204/1000 [00:09<00:36, 21.99it/s]"
     ]
    },
    {
     "name": "stdout",
     "output_type": "stream",
     "text": [
      "episode:  200 Evaluation Average Reward: -0.7399999999999988\n"
     ]
    },
    {
     "name": "stderr",
     "output_type": "stream",
     "text": [
      " 30%|███       | 304/1000 [00:12<00:22, 31.23it/s]"
     ]
    },
    {
     "name": "stdout",
     "output_type": "stream",
     "text": [
      "episode:  300 Evaluation Average Reward: -0.2999999999999998\n"
     ]
    },
    {
     "name": "stderr",
     "output_type": "stream",
     "text": [
      " 41%|████      | 407/1000 [00:15<00:20, 28.68it/s]"
     ]
    },
    {
     "name": "stdout",
     "output_type": "stream",
     "text": [
      "episode:  400 Evaluation Average Reward: -0.6099999999999988\n"
     ]
    },
    {
     "name": "stderr",
     "output_type": "stream",
     "text": [
      " 50%|█████     | 503/1000 [00:18<00:19, 25.79it/s]"
     ]
    },
    {
     "name": "stdout",
     "output_type": "stream",
     "text": [
      "episode:  500 Evaluation Average Reward: 0.039999999999999994\n"
     ]
    },
    {
     "name": "stderr",
     "output_type": "stream",
     "text": [
      " 60%|██████    | 604/1000 [00:21<00:14, 27.77it/s]"
     ]
    },
    {
     "name": "stdout",
     "output_type": "stream",
     "text": [
      "episode:  600 Evaluation Average Reward: -0.4399999999999988\n"
     ]
    },
    {
     "name": "stderr",
     "output_type": "stream",
     "text": [
      " 70%|███████   | 705/1000 [00:24<00:09, 29.97it/s]"
     ]
    },
    {
     "name": "stdout",
     "output_type": "stream",
     "text": [
      "episode:  700 Evaluation Average Reward: -0.5899999999999984\n"
     ]
    },
    {
     "name": "stderr",
     "output_type": "stream",
     "text": [
      " 81%|████████  | 807/1000 [00:28<00:05, 32.87it/s]"
     ]
    },
    {
     "name": "stdout",
     "output_type": "stream",
     "text": [
      "episode:  800 Evaluation Average Reward: -0.6299999999999977\n"
     ]
    },
    {
     "name": "stderr",
     "output_type": "stream",
     "text": [
      " 91%|█████████ | 906/1000 [00:30<00:02, 36.86it/s]"
     ]
    },
    {
     "name": "stdout",
     "output_type": "stream",
     "text": [
      "episode:  900 Evaluation Average Reward: -0.1400000000000005\n"
     ]
    },
    {
     "name": "stderr",
     "output_type": "stream",
     "text": [
      "100%|██████████| 1000/1000 [00:33<00:00, 29.45it/s]\n"
     ]
    }
   ],
   "source": [
    "EPISODE = 1000\n",
    "all_episode += EPISODE\n",
    "for episode in trange(EPISODE):\n",
    "\n",
    "    # Train\n",
    "    state = env.reset()\n",
    "    for step in range(STEP):\n",
    "        action = agent.egreedy_action(state) # e-greedy action for train\n",
    "        next_state,reward,done,_ = env.step(action)\n",
    "        agent.perceive(state,action,reward,next_state,done)\n",
    "        state = next_state\n",
    "        if done:\n",
    "            break\n",
    "\n",
    "    # Test\n",
    "    if (episode % 100) == 0:\n",
    "        total_reward = 0\n",
    "        for i in range(TEST):\n",
    "            state = env.reset()\n",
    "            for j in range(STEP):\n",
    "                action = agent.action(state) # direct action for test\n",
    "                state,reward,done,_ = env.step(action)\n",
    "                total_reward += reward\n",
    "                if done:\n",
    "                    break\n",
    "        ave_reward = total_reward/TEST\n",
    "        \n",
    "        all_reward.append( ave_reward )\n",
    "        if (episode % (EPISODE//100)) == 0:\n",
    "            print( 'episode: ',episode,'Evaluation Average Reward:',ave_reward)"
   ]
  },
  {
   "cell_type": "code",
   "execution_count": 7,
   "metadata": {},
   "outputs": [
    {
     "name": "stdout",
     "output_type": "stream",
     "text": [
      "1000 10\n"
     ]
    }
   ],
   "source": [
    "print( all_episode, len(all_reward))"
   ]
  },
  {
   "cell_type": "code",
   "execution_count": 7,
   "metadata": {
    "collapsed": true
   },
   "outputs": [],
   "source": [
    "save_all(\"data-save\")"
   ]
  },
  {
   "cell_type": "code",
   "execution_count": 8,
   "metadata": {
    "collapsed": true
   },
   "outputs": [],
   "source": [
    "import numpy as np\n",
    "\n",
    "%matplotlib inline\n",
    "import matplotlib.pyplot as plt"
   ]
  },
  {
   "cell_type": "code",
   "execution_count": 9,
   "metadata": {},
   "outputs": [
    {
     "data": {
      "image/png": "[encoded data removed]",
      "text/plain": [
       "<Figure size 432x288 with 1 Axes>"
      ]
     },
     "metadata": {},
     "output_type": "display_data"
    }
   ],
   "source": [
    "fig = plt.figure()\n",
    "ax = fig.add_subplot(111)\n",
    "# ax.plot([1, 2, 3, 4], [10, 20, 25, 30], color='lightblue', linewidth=3) # plot line\n",
    "ax.scatter(range(len(all_reward)), all_reward, color='green', marker='^') # plot points\n",
    "# ax.set_xlim(0.5, 4.5)\n",
    "plt.title(\"with dense\")\n",
    "plt.show()"
   ]
  },
  {
   "cell_type": "markdown",
   "metadata": {},
   "source": [
    "<img src=\"data:image/png;base64,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\" />\n",
    "\n",
    "<img src=\"data:image/png;base64,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\" />\n"
   ]
  },
  {
   "cell_type": "code",
   "execution_count": 11,
   "metadata": {
    "collapsed": true
   },
   "outputs": [],
   "source": [
    "mean_reward=[]\n",
    "for i in range( len(all_reward)-100 ):\n",
    "    mean_reward.append( mean(all_reward[i:i+100]) )"
   ]
  },
  {
   "cell_type": "code",
   "execution_count": 12,
   "metadata": {
    "collapsed": true
   },
   "outputs": [],
   "source": [
    "max_reward=[]\n",
    "for i in range( len(all_reward)-100 ):\n",
    "    max_reward.append( max(all_reward[i:i+100]) )"
   ]
  },
  {
   "cell_type": "code",
   "execution_count": 13,
   "metadata": {
    "collapsed": true
   },
   "outputs": [],
   "source": [
    "min_reward=[]\n",
    "for i in range( len(all_reward)-100 ):\n",
    "    min_reward.append( min(all_reward[i:i+100]) )"
   ]
  },
  {
   "cell_type": "code",
   "execution_count": 14,
   "metadata": {},
   "outputs": [
    {
     "data": {
      "image/png": "[encoded data removed]",
      "text/plain": [
       "<Figure size 432x288 with 1 Axes>"
      ]
     },
     "metadata": {},
     "output_type": "display_data"
    }
   ],
   "source": [
    "fig = plt.figure()\n",
    "ax = fig.add_subplot(111)\n",
    "ax.plot(range(len(mean_reward)), mean_reward, color='black', linewidth=1) # plot line\n",
    "ax.plot(range(len(max_reward)), max_reward, color='red', linewidth=1) # plot line\n",
    "ax.plot(range(len(min_reward)), min_reward, color='blue', linewidth=1) # plot line\n",
    "ax.set_ylim(-5, 1)\n",
    "# ax.set_xlim(0, 3500)\n",
    "plt.grid(True)\n",
    "plt.show()"
   ]
  },
  {
   "cell_type": "markdown",
   "metadata": {
    "collapsed": true
   },
   "source": [
    "> Check"
   ]
  },
  {
   "cell_type": "code",
   "execution_count": 53,
   "metadata": {},
   "outputs": [
    {
     "name": "stderr",
     "output_type": "stream",
     "text": [
      "100%|██████████| 3000/3000 [00:11<00:00, 252.29it/s]"
     ]
    },
    {
     "name": "stdout",
     "output_type": "stream",
     "text": [
      "reach:  2942 collision:  15\n"
     ]
    },
    {
     "name": "stderr",
     "output_type": "stream",
     "text": [
      "\n"
     ]
    }
   ],
   "source": [
    "reach = 0\n",
    "collision = 0\n",
    "for i in trange(3000):\n",
    "\n",
    "    state = env.reset()\n",
    "    for j in xrange(STEP):\n",
    "        action = agent.action(state) # direct action for test\n",
    "        state,reward,done,info = env.step(action)\n",
    "        total_reward += reward\n",
    "        if done:\n",
    "#             print info\n",
    "\n",
    "            if info == \"reach\":\n",
    "                reach += 1\n",
    "            if info == \"collision\":\n",
    "                collision += 1\n",
    "\n",
    "            break\n",
    "print \"reach: \", reach, \"collision: \", collision"
   ]
  },
  {
   "cell_type": "markdown",
   "metadata": {},
   "source": [
    "- The result of checking is not bad\n",
    "- even we might improve the network with oversampling\n",
    "- now we focus the design of logic controller"
   ]
  },
  {
   "cell_type": "code",
   "execution_count": 28,
   "metadata": {
    "collapsed": true
   },
   "outputs": [],
   "source": [
    "W1, b1, W2, b2, W3, b3 = agent.obtain_wb()"
   ]
  },
  {
   "cell_type": "code",
   "execution_count": 29,
   "metadata": {
    "collapsed": true
   },
   "outputs": [],
   "source": [
    "np.save('W1', W1)\n",
    "np.save('W2', W2)\n",
    "np.save('W3', W3)\n",
    "\n",
    "np.save('b1', b1)\n",
    "np.save('b2', b2)\n",
    "np.save('b3', b3)"
   ]
  },
  {
   "cell_type": "code",
   "execution_count": null,
   "metadata": {
    "collapsed": true
   },
   "outputs": [],
   "source": []
  }
 ],
 "metadata": {
  "kernelspec": {
   "display_name": "Python 3",
   "language": "python",
   "name": "python3"
  },
  "language_info": {
   "codemirror_mode": {
    "name": "ipython",
    "version": 3
   },
   "file_extension": ".py",
   "mimetype": "text/x-python",
   "name": "python",
   "nbconvert_exporter": "python",
   "pygments_lexer": "ipython3",
   "version": "3.6.2"
  }
 },
 "nbformat": 4,
 "nbformat_minor": 2
}
